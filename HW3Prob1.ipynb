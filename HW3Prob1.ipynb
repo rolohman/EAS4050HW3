{
 "cells": [
  {
   "cell_type": "code",
   "execution_count": null,
   "id": "102a8338",
   "metadata": {},
   "outputs": [],
   "source": [
    "import numpy as np\n",
    "import matplotlib.pyplot as plt"
   ]
  },
  {
   "cell_type": "code",
   "execution_count": null,
   "id": "8a22af7e-8c07-44e1-b7d4-de74de0af52a",
   "metadata": {},
   "outputs": [],
   "source": [
    "GPS    = np.genfromtxt('rates.csv', delimiter=',', names=True, case_sensitive=True) \n",
    "faults = np.genfromtxt('faults.csv', delimiter=',', names=True, case_sensitive=True) \n",
    "coasts = np.genfromtxt('coasts.csv', delimiter=',', names=True, case_sensitive=True)\n",
    "\n",
    "nd     = np.size(GPS) # number of data points"
   ]
  },
  {
   "cell_type": "markdown",
   "id": "6f980a95-1e46-4022-80cc-e52a0f9d3099",
   "metadata": {},
   "source": [
    "the original \"map\" locations have values like 4e6 meters - this just makes\n",
    "the plots a little cleaner.  Doesn't affect any of the math at all."
   ]
  },
  {
   "cell_type": "code",
   "execution_count": null,
   "id": "a17d4b2d-f31a-45c2-ba55-ad7801e39081",
   "metadata": {},
   "outputs": [],
   "source": [
    "GPS['x']=GPS['x']-GPS['x'].mean()\n",
    "GPS['y']=GPS['y']-GPS['y'].mean()\n",
    "\n",
    "GPS['UE']=GPS['UE']/1000 #%convert to meters/yr, since our units of distance are in meters\n",
    "GPS['UN']=GPS['UN']/1000\n"
   ]
  },
  {
   "cell_type": "markdown",
   "id": "e2e1a3bc-dcdd-4a76-a24b-d1674c069327",
   "metadata": {},
   "source": [
    "It can be helpful to add a \"scale\" arrow of known size - so here I\n",
    "\"augment\" the lon, lat and displacement rate vectors by to add in a new\n",
    "value sitting somewhere offshore where I will also place a text label.\n"
   ]
  },
  {
   "cell_type": "code",
   "execution_count": null,
   "id": "0ede3288-7d82-462e-b08e-4df3d08b279e",
   "metadata": {},
   "outputs": [],
   "source": [
    "aug_lon = np.append(GPS['lon'],-120)\n",
    "aug_lat = np.append(GPS['lat'],32.5)\n",
    "aug_UE  = np.append(GPS['UE'],0.05)\n",
    "aug_UN  = np.append(GPS['UN'],0)"
   ]
  },
  {
   "cell_type": "code",
   "execution_count": null,
   "id": "aeb08033",
   "metadata": {},
   "outputs": [],
   "source": [
    "fig=plt.figure()\n",
    "ax = fig.add_subplot(1, 1, 1)\n",
    "ax.plot(coasts['lon'],coasts['lat'],'k')\n",
    "ax.plot(faults['lon'],faults['lat'],'r',linewidth=0.5)\n",
    "\n",
    "#add displacement rate vectors, as well as scale arrow \n",
    "ax.quiver(aug_lon,aug_lat, aug_UE,aug_UN,color=((0.1,0.5,0.6)))\n",
    "ax.text(-120,32.6,'50 mm/yr',horizontalalignment='center')\n",
    "\n",
    "plt.axis('equal')\n",
    "plt.xlim([-121, -115])\n",
    "plt.ylim([32, 36])\n",
    "plt.xlabel('Longitude (degrees)')\n",
    "plt.ylabel('Latitude (degrees)')\n",
    "plt.title('Data')\n",
    "plt.show()"
   ]
  },
  {
   "cell_type": "markdown",
   "id": "77127de7-06da-4487-aba7-c4f21da97983",
   "metadata": {},
   "source": [
    "Now we invert for the big matrix L.  The positions we use here have to\n",
    "be in meters (GPS_x and GPS_y), not in latitude/longitude.  But it\n",
    "doesn't matter that we removed that average value.\n",
    "\n",
    "remember this discussion from class?\n",
    "G=[ T1 T2 U11 U12 U21 U22]\n",
    "\n",
    "We are first doing this for all the data at once. (next week look at spatial variation)\n",
    "First, predefine vectors of ones and  of zeros, since we use them a bunch."
   ]
  },
  {
   "cell_type": "code",
   "execution_count": null,
   "id": "b025a75c-51f3-4293-bd9f-6cb5d1e4e958",
   "metadata": {},
   "outputs": [],
   "source": [
    "z    = np.zeros(nd)\n",
    "o    = np.ones(nd)"
   ]
  },
  {
   "cell_type": "markdown",
   "id": "73573f9f-bb47-48a5-9b08-d48d6aff9d10",
   "metadata": {},
   "source": [
    "The first \"nd\" rows are the related to the eastward components of\n",
    "displacement, the next nd rows are related to the northward component of\n",
    "displacement.  You can see that in our data, too.  Note which \"chunks\" of\n",
    "G are zeroed out.\n"
   ]
  },
  {
   "cell_type": "code",
   "execution_count": null,
   "id": "fada1552-0be7-412a-aeeb-262f6cc15a72",
   "metadata": {},
   "outputs": [],
   "source": [
    "G1    = np.column_stack((o,z,GPS['x'],GPS['y'],z,z))  #first set, UE \n",
    "G2    = np.column_stack((z,o,z,z,GPS['x'],GPS['y'])) #2nd set, UN\n",
    "G     = np.concatenate((G1,G2),axis=0)"
   ]
  },
  {
   "cell_type": "code",
   "execution_count": null,
   "id": "f642f7f3-3108-48a5-9372-8af0279dc14c",
   "metadata": {},
   "outputs": [],
   "source": [
    "Gt   = np.transpose(G)\n",
    "Gg   = np.linalg.inv(Gt.dot(G)).dot(Gt)\n",
    "\n",
    "data = np.hstack((GPS['UE'],GPS['UN']))\n",
    "\n",
    "model   = Gg.dot(data)     #inversion -> model\n",
    "synth   = G.dot(model)          #model -> prediction/synthetic data\n",
    "\n",
    "sx      = synth[0:nd]      #first nd values are the eastward component\n",
    "sy      = synth[nd:]     #next nd values are the northward component\n",
    "np.shape(sx)\n",
    "np.shape(sy)"
   ]
  },
  {
   "cell_type": "code",
   "execution_count": null,
   "id": "24221e6d-097d-413c-b850-dfc8fa3c0031",
   "metadata": {},
   "outputs": [],
   "source": [
    "aug_UE  = np.append(sx,0.05)\n",
    "aug_UN  = np.append(sy,0)"
   ]
  },
  {
   "cell_type": "code",
   "execution_count": null,
   "id": "ca061ab6",
   "metadata": {},
   "outputs": [],
   "source": [
    "fig=plt.figure()\n",
    "ax = fig.add_subplot(1, 1, 1)\n",
    "ax.plot(coasts['lon'],coasts['lat'],'k')\n",
    "ax.plot(faults['lon'],faults['lat'],'r',linewidth=0.5)\n",
    "\n",
    "#add displacement rate vectors, as well as scale arrow \n",
    "ax.quiver(aug_lon,aug_lat, aug_UE,aug_UN,color=((0.1,0.5,0.6)))\n",
    "ax.text(-120,32.6,'50 mm/yr',horizontalalignment='center')\n",
    "\n",
    "plt.axis('equal')\n",
    "plt.xlim([-121, -115])\n",
    "plt.ylim([32, 36])\n",
    "plt.xlabel('Longitude (degrees)')\n",
    "plt.ylabel('Latitude (degrees)')\n",
    "plt.title('Prediction')\n",
    "plt.show()"
   ]
  },
  {
   "cell_type": "code",
   "execution_count": null,
   "id": "e4e120c9",
   "metadata": {},
   "outputs": [],
   "source": [
    "aug_UE  = np.append(GPS['UE']-sx,0.01)\n",
    "aug_UN  = np.append(GPS['UN']-sy,0)"
   ]
  },
  {
   "cell_type": "code",
   "execution_count": null,
   "id": "02868020-0b14-480a-b32b-c453d3e9122f",
   "metadata": {},
   "outputs": [],
   "source": [
    "fig=plt.figure()\n",
    "ax = fig.add_subplot(1, 1, 1)\n",
    "ax.plot(coasts['lon'],coasts['lat'],'k')\n",
    "ax.plot(faults['lon'],faults['lat'],'r',linewidth=0.5)\n",
    "\n",
    "#add displacement rate vectors, as well as scale arrow \n",
    "ax.quiver(aug_lon,aug_lat, aug_UE,aug_UN,color=((0.1,0.5,0.6)))\n",
    "ax.text(-120,32.6,'10 mm/yr',horizontalalignment='center')\n",
    "\n",
    "plt.axis('equal')\n",
    "plt.xlim([-121, -115])\n",
    "plt.ylim([32, 36])\n",
    "plt.xlabel('Longitude (degrees)')\n",
    "plt.ylabel('Latitude (degrees)')\n",
    "plt.title('Residual')\n",
    "plt.show()"
   ]
  },
  {
   "cell_type": "markdown",
   "id": "1997a860-565a-4869-9eff-661006c202e6",
   "metadata": {},
   "source": [
    "# L components\n",
    "\n",
    "Now lets divide up the individual parts of the model in symmetric and antisymmetric and plot them separately"
   ]
  },
  {
   "cell_type": "code",
   "execution_count": null,
   "id": "2906be9c-2922-4a2e-85af-2bbfa8806c7e",
   "metadata": {},
   "outputs": [],
   "source": [
    "T = model[0:2] #translation\n",
    "\n",
    "L = model[2:].reshape(2,2)\n",
    "W = (L-np.transpose(L))/2\n",
    "E = (L+np.transpose(L))/2"
   ]
  },
  {
   "cell_type": "markdown",
   "id": "87657f29-1b5e-481c-9d04-6567a088b632",
   "metadata": {},
   "source": [
    "make prediction (sometimes referred to as \"synthetic\" data) of JUST the different components"
   ]
  },
  {
   "cell_type": "code",
   "execution_count": null,
   "id": "a6e2f05c-78d3-4cdc-85c2-ea4cb122c4ac",
   "metadata": {},
   "outputs": [],
   "source": [
    "GPSXY=np.transpose(np.column_stack((GPS['x'],GPS['y']))) #this gives us a 2xnp matrix of x and y values, which we need for the matrix multiplication below.\n",
    "\n",
    "synthL = L.dot(GPSXY);\n",
    "synthE = E.dot(GPSXY);\n",
    "synthW = W.dot(GPSXY);\n",
    "print(np.shape(synthL))"
   ]
  },
  {
   "cell_type": "markdown",
   "id": "3497ca8f-842b-4f36-8647-18c5e70195db",
   "metadata": {},
   "source": [
    "below  I'm plotting in the projected coordinates, GPS_x and GPS_y, instead\n",
    "of lat/lon.  Could do either way. A benefit of units in meters is that\n",
    "they are the same size in both directions, whereas a unit of latitude is\n",
    "not usually the same distance as a unit of longitude."
   ]
  },
  {
   "cell_type": "code",
   "execution_count": null,
   "id": "a6298140-8a34-445f-b5dd-bcd1ba53105a",
   "metadata": {},
   "outputs": [],
   "source": [
    "fig=plt.figure(figsize=(10,10))\n",
    "ax = fig.add_subplot(2, 2, 1)    \n",
    "ax.quiver(GPS['x'],GPS['y'],synthL[0,],synthL[1,]) # have to take the transpose here, since GPS_x is np x 1 and the synthetics are 1 x np\n",
    "plt.axis('image')\n",
    "plt.xlabel('East (m)')\n",
    "plt.ylabel('North (m)')\n",
    "plt.title('Full matrix L')\n",
    "\n",
    "ax = fig.add_subplot(2, 2, 2)    \n",
    "ax.quiver(GPS['x'],GPS['y'],synthE[0,],synthE[1,]) # have to take the transpose here, since GPS_x is np x 1 and the synthetics are 1 x np\n",
    "plt.axis('image')\n",
    "plt.xlabel('East (m)')\n",
    "plt.ylabel('North (m)')\n",
    "plt.title('Just symmetric component, E')\n",
    "\n",
    "ax = fig.add_subplot(2, 2, 3)    \n",
    "ax.quiver(GPS['x'],GPS['y'],synthW[0,],synthW[1,]) # have to take the transpose here, since GPS_x is np x 1 and the synthetics are 1 x np\n",
    "plt.axis('image')\n",
    "plt.xlabel('East (m)')\n",
    "plt.ylabel('North (m)')\n",
    "plt.title('Just anti-symmetric component, W')\n",
    "\n",
    "ax = fig.add_subplot(2,2,4)\n",
    "ax.quiver((GPS['x']-min(GPS['x']))/1e3,(GPS['y']-min(GPS['y']))/1e3,synthL[0,],synthL[1,],scale=0.5) \n",
    "ax.quiver((GPS['x']-min(GPS['x']))/1e3,(GPS['y']-min(GPS['y']))/1e3,synthE[0,],synthE[1,],scale=0.5,color='r') \n",
    "ax.quiver((GPS['x']-min(GPS['x']))/1e3,(GPS['y']-min(GPS['y']))/1e3,synthW[0,],synthW[1,],scale=0.5,color='b') \n",
    "ax.legend(['L','E','W'])\n",
    "plt.axis('image')\n",
    "plt.xlabel('East (m)')\n",
    "plt.ylabel('North (m)')\n",
    "plt.title('All components')\n",
    "\n",
    "\n",
    "\n"
   ]
  },
  {
   "cell_type": "markdown",
   "id": "51c11cfd-3f40-4856-85fa-222a58629856",
   "metadata": {},
   "source": [
    "now the eigenvector stuff"
   ]
  },
  {
   "cell_type": "code",
   "execution_count": null,
   "id": "4ee62617-e1cc-43b0-8294-f70969b2e984",
   "metadata": {},
   "outputs": [],
   "source": [
    "e, v = np.linalg.eig(E)   #matrix of eigenvectors (v) and eigenvalues (diag e)"
   ]
  },
  {
   "cell_type": "markdown",
   "id": "1dbdc082-39fe-4711-a8c2-f3e162f422df",
   "metadata": {},
   "source": [
    "plot principle components with arrows"
   ]
  },
  {
   "cell_type": "code",
   "execution_count": null,
   "id": "ac387afb-49a6-4b9a-8b66-093146f6f4af",
   "metadata": {},
   "outputs": [],
   "source": [
    "fig=plt.figure()\n",
    "ax = fig.add_subplot(1, 1, 1)   \n",
    "#ax.quiver(GPS['x'],GPS['y'],synthW[0,],synthW[1,]) # have to take the transpose here, since GPS_x is np x 1 and the synthetics are 1 x np\n",
    "\n",
    "ax.quiver(GPS['x']/1e3,GPS['y']/1e3,GPS['UE'],GPS['UN'],color=((0.8,0.8,0.8)))\n",
    "plt.axis('image')\n",
    "plt.xlabel('East (km)')\n",
    "plt.ylabel('North (km)')\n",
    "\n",
    "#plot arrows pointing in or out, depending on the sign of that eigenvalue\n",
    "#loop over the two eigenvectors\n",
    "for i in [0,1]:\n",
    "    if e[i]>0:\n",
    "        ax.quiver(0,0,v[0,i]*e[i],v[1,i]*e[i],scale=1e-6,color='r')\n",
    "        ax.quiver(0,0,-v[0,i]*e[i],-v[1,i]*e[i],scale=1e-6,color='r')\n",
    "    else:\n",
    "        ax.quiver(0,0,v[0,i]*e[i],v[1,i]*e[i],scale=1e-6,color='k',pivot='tip')\n",
    "        ax.quiver(0,0,-v[0,i]*e[i],-v[1,i]*e[i],scale=1e-6,color='k',pivot='tip')\n",
    "\n",
    "        \n",
    "plt.xlim([-200, 200])\n",
    "plt.ylim([-200, 200])"
   ]
  },
  {
   "cell_type": "code",
   "execution_count": null,
   "id": "17b1acf8-9963-4d62-b0e2-2a3a70a12a2c",
   "metadata": {},
   "outputs": [],
   "source": []
  }
 ],
 "metadata": {
  "kernelspec": {
   "display_name": "Python 3",
   "language": "python",
   "name": "python3"
  },
  "language_info": {
   "codemirror_mode": {
    "name": "ipython",
    "version": 3
   },
   "file_extension": ".py",
   "mimetype": "text/x-python",
   "name": "python",
   "nbconvert_exporter": "python",
   "pygments_lexer": "ipython3",
   "version": "3.7.0"
  }
 },
 "nbformat": 4,
 "nbformat_minor": 5
}
